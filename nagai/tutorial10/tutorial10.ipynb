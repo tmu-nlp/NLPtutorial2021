{
 "cells": [
  {
   "cell_type": "code",
   "execution_count": 35,
   "id": "4d6da9e3-03c7-44f5-8f7d-33e6c335469f",
   "metadata": {},
   "outputs": [],
   "source": [
    "from collections import defaultdict\n",
    "import math\n",
    "from nltk.tree import Tree\n",
    "from nltk.treeprettyprinter import TreePrettyPrinter\n",
    "\n",
    "def PRINT(sym_i_j):\n",
    "    sym,i,j=sym_i_j.split(\" \")\n",
    "    if sym_i_j in best_edge:\n",
    "        return f\"({sym} {PRINT(best_edge[sym_i_j][0])} {PRINT(best_edge[sym_i_j][1])})\"\n",
    "    else:\n",
    "        return f\"({sym} {words[int(i)]})\"\n",
    "        \n",
    "\n",
    "nonterm=[]\n",
    "preterm=defaultdict(lambda:list())\n",
    "with open(\"wiki-en-test.grammer.txt\",\"r\",encoding=\"utf-8\") as gf:\n",
    "    for rule in gf:\n",
    "        lhs,rhs,prob=rule.strip().split(\"\\t\")\n",
    "        rhs_symbols=rhs.split(\" \")\n",
    "        if len(rhs_symbols)==1:\n",
    "            preterm[rhs].append((lhs,math.log(float(prob))))\n",
    "        else:\n",
    "            nonterm.append((lhs,rhs_symbols[0],rhs_symbols[1],math.log(float(prob))))\n",
    "            \n",
    "with open(\"wiki-en-short.tok.txt\",\"r\",encoding=\"utf-8\")as ws:\n",
    "    for line in ws:\n",
    "        words=line.strip().split(\" \")\n",
    "        best_score=defaultdict(lambda:-math.inf)\n",
    "        best_edge={}\n",
    "        for i in range(len(words)):\n",
    "            for lhs,log_prob in preterm[words[i]]:\n",
    "                best_score[f\"{lhs} {i} {i+1}\"]=log_prob\n",
    "        for j in range(2,len(words)+1):\n",
    "            for i in range(j-2,-1,-1):\n",
    "                for k in range(i+1,j):\n",
    "                    for sym,lsym,rsym,logprob in nonterm:\n",
    "                        if best_score[f\"{lsym} {i} {k}\"]>-math.inf and best_score[f\"{rsym} {k} {j}\"]>-math.inf:\n",
    "                            my_lp=best_score[f\"{lsym} {i} {k}\"]+best_score[f\"{rsym} {k} {j}\"]+logprob\n",
    "                            if my_lp>best_score[f\"{sym} {i} {j}\"]:\n",
    "                                best_score[f\"{sym} {i} {j}\"]=my_lp\n",
    "                                best_edge[f\"{sym} {i} {j}\"]=(f\"{lsym} {i} {k}\",f\"{rsym} {k} {j}\")                       \n",
    "        with open(\"tree.txt\",\"a\",encoding=\"utf-8\") as tr:\n",
    "            tree=Tree.fromstring(PRINT(f\"S 0 {len(words)}\"))\n",
    "            tr.write(TreePrettyPrinter(tree).text())"
   ]
  },
  {
   "cell_type": "code",
   "execution_count": null,
   "id": "0c1977e1-710b-49fc-b677-f3e1a7b09f8c",
   "metadata": {},
   "outputs": [],
   "source": []
  }
 ],
 "metadata": {
  "kernelspec": {
   "display_name": "Python 3",
   "language": "python",
   "name": "python3"
  },
  "language_info": {
   "codemirror_mode": {
    "name": "ipython",
    "version": 3
   },
   "file_extension": ".py",
   "mimetype": "text/x-python",
   "name": "python",
   "nbconvert_exporter": "python",
   "pygments_lexer": "ipython3",
   "version": "3.9.4"
  }
 },
 "nbformat": 4,
 "nbformat_minor": 5
}
