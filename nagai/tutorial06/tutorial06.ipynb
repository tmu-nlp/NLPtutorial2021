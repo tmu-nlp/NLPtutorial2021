{
 "cells": [
  {
   "cell_type": "code",
   "execution_count": null,
   "id": "99f84a2d-8ada-4640-be42-ebad771d6703",
   "metadata": {},
   "outputs": [],
   "source": [
    "from collections import defaultdict\n",
    "import numpy as np\n",
    "\n",
    "def predict_one(w,phi):\n",
    "    score=0\n",
    "    for name,value in phi.items():\n",
    "        if name in w:\n",
    "            score+=value*w[name]\n",
    "    if score>=0:\n",
    "        return 1\n",
    "    else:\n",
    "        return -1\n",
    "\n",
    "def create_features(x):\n",
    "    phi=defaultdict(int)\n",
    "    words=x.split()\n",
    "    for word in words:\n",
    "        phi[\"UNI:\"+word]+=1\n",
    "    return phi\n",
    "\n",
    "def predict_all(w,input_file):\n",
    "        with open(input_file,\"r\",encoding=\"utf-8\") as input_f:\n",
    "            with open(\"test_answer.txt\",\"w\",encoding=\"utf-8\") as ans:\n",
    "                for x in input_f:\n",
    "                    x=x.strip()\n",
    "                    phi=create_features(x)\n",
    "                    y2=predict_one(w,phi)\n",
    "                    ans.write(str(y2)+\"\\t\"+x+\"\\n\")\n",
    "\n",
    "def online_learning(train_file):\n",
    "    w=defaultdict(int)\n",
    "    iterations=20\n",
    "    margin=0.5\n",
    "    c=0.0001\n",
    "    for i in range(iterations):\n",
    "        with open(train_file,\"r\",encoding=\"utf-8\") as train:\n",
    "            for line in train:\n",
    "                y,x=line.split(\"\\t\")\n",
    "                phi=create_features(x)\n",
    "                val=0\n",
    "                for word in phi:\n",
    "                    val+=w[word]*phi[word]*int(y)\n",
    "                if val<=margin:\n",
    "                    update_weights(w,phi,int(y),float(c))\n",
    "    return w\n",
    "            \n",
    "def update_weights(w,phi,y,c):\n",
    "    for name,value in w.items():\n",
    "        if abs(value)<c:\n",
    "            w[name]=0\n",
    "        else:\n",
    "            w[name]-=np.sign(value)*c\n",
    "    for name,value in phi.items():\n",
    "        w[name]+=value*y\n",
    "    return w\n",
    "\n",
    "if __name__==\"__main__\":\n",
    "    w=online_learning(\"titles-en-train.labeled.txt\")\n",
    "    predict_all(w,\"titles-en-test.txt\")"
   ]
  },
  {
   "cell_type": "code",
   "execution_count": 8,
   "id": "cfbde6a7-cd67-40c7-b479-b4a018f4c9f2",
   "metadata": {},
   "outputs": [
    {
     "name": "stdout",
     "output_type": "stream",
     "text": [
      "精度：0.9273822174991144\n"
     ]
    }
   ],
   "source": [
    "def check(test_ans,my_ans):\n",
    "    with open(test_ans,\"r\",encoding=\"utf-8\") as t_a:\n",
    "         with open(my_ans,\"r\",encoding=\"utf-8\") as my_a:\n",
    "            kekka=[]\n",
    "            my_kekka=[]\n",
    "            count=0\n",
    "            for line in t_a:\n",
    "                y,x=line.split(\"\\t\")\n",
    "                kekka.append(float(y))\n",
    "            for line in my_a:\n",
    "                line=line.strip()\n",
    "                y2,x2=line.split(\"\\t\")\n",
    "                my_kekka.append(float(y2))\n",
    "            for i in range(0,len(kekka)):\n",
    "                if kekka[i]==my_kekka[i]:\n",
    "                    count+=1\n",
    "            print(\"精度：\"+str((count/len(kekka))))\n",
    "\n",
    "check(\"titles-en-test.labeled.txt\",\"test_answer.txt\")"
   ]
  }
 ],
 "metadata": {
  "kernelspec": {
   "display_name": "Python 3",
   "language": "python",
   "name": "python3"
  },
  "language_info": {
   "codemirror_mode": {
    "name": "ipython",
    "version": 3
   },
   "file_extension": ".py",
   "mimetype": "text/x-python",
   "name": "python",
   "nbconvert_exporter": "python",
   "pygments_lexer": "ipython3",
   "version": "3.9.4"
  }
 },
 "nbformat": 4,
 "nbformat_minor": 5
}
