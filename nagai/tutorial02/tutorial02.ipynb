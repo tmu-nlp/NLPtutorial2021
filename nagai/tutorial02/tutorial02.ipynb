{
 "cells": [
  {
   "cell_type": "code",
   "execution_count": 2,
   "id": "9cf8f74a-e096-4f18-927b-0d08dfaffc85",
   "metadata": {},
   "outputs": [
    {
     "name": "stdout",
     "output_type": "stream",
     "text": [
      "entropy=3.2517792022213396\n"
     ]
    }
   ],
   "source": [
    "#train\n",
    "import sys\n",
    "from collections import defaultdict\n",
    "counts=defaultdict(lambda:0)\n",
    "context_counts=defaultdict(lambda:0)\n",
    "with open(\"test02-train-input.txt\",\"r\") as training_file:\n",
    "    for line in training_file:\n",
    "        line=line.strip()\n",
    "        words=line.split()\n",
    "        words.append(\"</s>\")\n",
    "        words.insert(0,\"<s>\")\n",
    "        for num in range(1,len(words)-1):\n",
    "            counts[words[num-1]+\" \"+words[num]]+=1\n",
    "            context_counts[words[num-1]]+=1\n",
    "            counts[words[num]]+=1\n",
    "            context_counts[\"\"]+=1\n",
    "    \n",
    "with open(\"test02-train-answer.txt\",\"w\") as file:\n",
    "    for ngram,count in counts.items():\n",
    "        context=ngram.split(\" \")\n",
    "        if len(context)>=2:\n",
    "            context=context.pop(0)\n",
    "        else:\n",
    "            context=\"\" #unigram\n",
    "        probability=float(counts[ngram]/context_counts[context])\n",
    "        #print(ngram,probability)\n",
    "        file.write(\"{}\\t{}\\n\".format(ngram,probability))\n",
    "        \n",
    "#test\n",
    "import math\n",
    "lam1=0.95\n",
    "lam2=0.60\n",
    "V=1000000\n",
    "W=0\n",
    "H=0\n",
    "\n",
    "probs=defaultdict(lambda:0)\n",
    "with open(\"test02-train-answer.txt\",\"r\") as model_file:\n",
    "    for line in model_file:\n",
    "        data=line.split(\"\\t\")\n",
    "        probs[data[0]]=float(data[1])\n",
    "        \n",
    "with open(\"datawiki-en-test.txt\",\"r\") as test_file:       \n",
    "    for line in test_file:\n",
    "        words=line.split()\n",
    "        words.append(\"</s>\")\n",
    "        words.insert(0,\"<s>\")\n",
    "        for num in range(1,len(words)-1):\n",
    "            P1=lam1*probs[words[num]]+(1-lam1)/V\n",
    "            P2=lam2*probs[words[num-1]+\" \"+words[num]]+(1-lam2)*P1\n",
    "            H+=-math.log(P2,2)\n",
    "            W+=1\n",
    "    print(f\"entropy={H/W}\")"
   ]
  }
 ],
 "metadata": {
  "kernelspec": {
   "display_name": "Python 3",
   "language": "python",
   "name": "python3"
  },
  "language_info": {
   "codemirror_mode": {
    "name": "ipython",
    "version": 3
   },
   "file_extension": ".py",
   "mimetype": "text/x-python",
   "name": "python",
   "nbconvert_exporter": "python",
   "pygments_lexer": "ipython3",
   "version": "3.9.4"
  }
 },
 "nbformat": 4,
 "nbformat_minor": 5
}
