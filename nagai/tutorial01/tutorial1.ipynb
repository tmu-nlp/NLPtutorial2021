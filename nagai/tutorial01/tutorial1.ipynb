{
 "cells": [
  {
   "cell_type": "code",
   "execution_count": 122,
   "id": "60fc18af-1301-42dc-9ff5-3e47114be549",
   "metadata": {},
   "outputs": [
    {
     "name": "stdout",
     "output_type": "stream",
     "text": [
      "entropy=3.031687\n",
      "coverage=0.875000\n"
     ]
    }
   ],
   "source": [
    "#train-unigram\n",
    "import sys\n",
    "from collections import defaultdict\n",
    "word_count=defaultdict(lambda:0)\n",
    "total_count=0\n",
    "with open(\"test01-train-input.txt\",\"r\") as training_file:\n",
    "    for line in training_file:\n",
    "        line=line.strip()\n",
    "        words=line.split(\" \")\n",
    "        words.append(\"<\\s>\")\n",
    "        for word in words:\n",
    "            word_count[word]+=1\n",
    "            total_count+=1\n",
    "\n",
    "with open(\"test01-train-answer.txt\",\"w\") as file:\n",
    "    for word,count in word_count.items():\n",
    "        probability=word_count[word]/total_count\n",
    "        file.write(word+\"\\t\"+str(probability)+\"\\n\")\n",
    "        #print(word,probability)\n",
    "        \n",
    "#test-unigram\n",
    "#model読み込み\n",
    "probabilities=defaultdict(lambda:0)\n",
    "with open(\"test01-train-answer.txt\",\"r\") as model_file:\n",
    "    for line in model_file:\n",
    "        line=line.strip()\n",
    "        data=line.split(\"\\t\")\n",
    "        probabilities[data[0]]=float(data[1])\n",
    "        \n",
    "#評価と結果表示\n",
    "W=0\n",
    "lam=0.95\n",
    "V=1000000\n",
    "H=0\n",
    "unk=0\n",
    "import math\n",
    "with open(\"test01-test-input.txt\",\"r\") as test_file:\n",
    "    for line in test_file:\n",
    "        line=line.strip()\n",
    "        words2=line.split(\" \")\n",
    "        words2.append(\"<\\s>\")\n",
    "        for word in words2:\n",
    "            W+=1\n",
    "            P=(1-lam)/V\n",
    "            if word in probabilities:\n",
    "                P+=lam*probabilities[word]\n",
    "            else:\n",
    "                unk+=1\n",
    "                H+=-math.log(P,2)\n",
    "if W==0:\n",
    "    entropy=float(\"nan\")\n",
    "    coverage=float(\"nan\")\n",
    "else:\n",
    "    entropy=H/W\n",
    "    coverage=(W-unk)/W\n",
    "        \n",
    "print(f\"entropy={entropy:f}\")\n",
    "print(f\"coverage={coverage:f}\")\n",
    "        \n",
    "\n",
    "\n"
   ]
  }
 ],
 "metadata": {
  "kernelspec": {
   "display_name": "Python 3",
   "language": "python",
   "name": "python3"
  },
  "language_info": {
   "codemirror_mode": {
    "name": "ipython",
    "version": 3
   },
   "file_extension": ".py",
   "mimetype": "text/x-python",
   "name": "python",
   "nbconvert_exporter": "python",
   "pygments_lexer": "ipython3",
   "version": "3.9.4"
  }
 },
 "nbformat": 4,
 "nbformat_minor": 5
}
