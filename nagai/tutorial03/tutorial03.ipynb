{
 "cells": [
  {
   "cell_type": "code",
   "execution_count": 6,
   "id": "ab7be35c-473d-4124-a17f-33c0196f0e4a",
   "metadata": {},
   "outputs": [],
   "source": [
    "from collections import defaultdict\n",
    "probabilities=defaultdict(lambda:0)\n",
    "with open(\"test04-train-answer.txt\",\"r\") as model_file:\n",
    "    for line in model_file:\n",
    "        line=line.strip()\n",
    "        data=line.split(\"\\t\")\n",
    "        probabilities[data[0]]=float(data[1])\n",
    "#前向きステップ\n",
    "from collections import defaultdict\n",
    "best_edge=defaultdict(lambda:0)\n",
    "best_score=defaultdict(lambda:0)\n",
    "\n",
    "import math\n",
    "lam1=0.95\n",
    "V=1000000\n",
    "with open(\"test04-input.txt\",\"r\",encoding='utf-8') as input_file:\n",
    "    for line in input_file:\n",
    "        line=line.strip()\n",
    "        best_edge[0]=None\n",
    "        best_score[0]=0 #初期化\n",
    "        for word_end in range(1,len(line)):\n",
    "            best_score[word_end]=pow(10,10)\n",
    "            for word_begin in range(0,word_end-1):\n",
    "                word=line[word_begin:word_end]\n",
    "                if word in probabilities or len(word)==1:#既知語か長さ１\n",
    "                    Prob=probabilities[word]*lam1+(1-lam1)/V\n",
    "                    my_score=best_score[word_begin]+(-log(Prob,2))#経路の重み\n",
    "                    if my_score<best_score[word_end]:\n",
    "                        best_score[word_end]=myscore\n",
    "                        best_edge[word_end]=(word_begin,word_end)\n",
    "\n",
    "#後ろ向きステップ\n",
    "        words=[]\n",
    "        next_edge=best_edge[len(best_edge)-1]\n",
    "        while next_edge!=None:\n",
    "            word=line[next_edge[0]:next_edge[1]]\n",
    "            word.encode('utf-8')\n",
    "            words.append(word)\n",
    "            next_edge=best[next_edge[0]]\n",
    "            words.reverse()\n",
    "            print(\"\".join(str(words)))"
   ]
  }
 ],
 "metadata": {
  "kernelspec": {
   "display_name": "Python 3",
   "language": "python",
   "name": "python3"
  },
  "language_info": {
   "codemirror_mode": {
    "name": "ipython",
    "version": 3
   },
   "file_extension": ".py",
   "mimetype": "text/x-python",
   "name": "python",
   "nbconvert_exporter": "python",
   "pygments_lexer": "ipython3",
   "version": "3.9.4"
  }
 },
 "nbformat": 4,
 "nbformat_minor": 5
}
