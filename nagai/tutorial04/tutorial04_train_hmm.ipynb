{
 "cells": [
  {
   "cell_type": "code",
   "execution_count": 21,
   "id": "c63edd65-a9fb-4ed2-b376-b70e41282740",
   "metadata": {},
   "outputs": [],
   "source": [
    "from collections import defaultdict\n",
    "transition=defaultdict(lambda:0)\n",
    "context=defaultdict(lambda:0)\n",
    "emit=defaultdict(lambda:0)\n",
    "\n",
    "with open(\"test05_input.txt\",\"r\") as train_file:\n",
    "    for line in train_file:\n",
    "        line=line.strip()\n",
    "        previous=\"<s>\"\n",
    "        context[previous]+=1\n",
    "        wordtags=line.split(\" \")\n",
    "        for wordtag in wordtags:\n",
    "            word,tag=wordtag.split(\"_\")\n",
    "            transition[previous+\" \"+tag]+=1\n",
    "            context[tag]+=1\n",
    "            emit[tag+\" \"+word]+=1\n",
    "            previous=tag\n",
    "        transition[previous+\" <\\s>\"]+=1\n",
    "    with open(\"text05-answer.txt\",\"w\") as model_file:\n",
    "        for key,value in transition.items():\n",
    "            previous,word=key.split(\" \")\n",
    "            model_file.write(\"T\\s{0}\\s{1}\".format(key,value/context[previous]))\n",
    "        for key,value in emit.items():\n",
    "            previous,word=key.split(\" \")\n",
    "            model_file.write(\"E\\s{0}\\s{1}\".format(key,value/context[previous]))\n"
   ]
  }
 ],
 "metadata": {
  "kernelspec": {
   "display_name": "Python 3",
   "language": "python",
   "name": "python3"
  },
  "language_info": {
   "codemirror_mode": {
    "name": "ipython",
    "version": 3
   },
   "file_extension": ".py",
   "mimetype": "text/x-python",
   "name": "python",
   "nbconvert_exporter": "python",
   "pygments_lexer": "ipython3",
   "version": "3.9.4"
  }
 },
 "nbformat": 4,
 "nbformat_minor": 5
}
