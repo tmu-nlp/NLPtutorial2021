{
 "cells": [
  {
   "cell_type": "code",
   "execution_count": 1,
   "id": "63c9f75c-b0f8-4116-8149-3384250ca5d2",
   "metadata": {},
   "outputs": [],
   "source": [
    "from collections import defaultdict\n",
    "            \n",
    "def predict_one(w,phi):\n",
    "    score=0\n",
    "    for name,value in phi.items():\n",
    "        if name in w:\n",
    "            score+=value*w[name]\n",
    "    if score>=0:\n",
    "        return 1\n",
    "    else:\n",
    "        return -1\n",
    "\n",
    "def create_features(x):\n",
    "    phi=defaultdict(int)\n",
    "    words=x.split()\n",
    "    for word in words:\n",
    "        phi[\"UNI:\"+word]+=1\n",
    "    return phi\n",
    "\n",
    "def predict_all(w,input_file):\n",
    "        with open(input_file,\"r\",encoding=\"utf-8\") as input_f:\n",
    "            with open(\"test_answer.txt\",\"w\",encoding=\"utf-8\") as ans:\n",
    "                for x in input_f:\n",
    "                    x=x.strip()\n",
    "                    phi=create_features(x)\n",
    "                    y2=predict_one(w,phi)\n",
    "                    ans.write(str(y2)+\"\\t\"+x+\"\\n\")\n",
    "\n",
    "def online_learning(train_file):\n",
    "    w=defaultdict(int)\n",
    "    iterations=20\n",
    "    for i in range(iterations):\n",
    "        with open(train_file,\"r\",encoding=\"utf-8\") as train:\n",
    "            for line in train:\n",
    "                y,x=line.split(\"\\t\")\n",
    "                phi=create_features(x)\n",
    "                y2=predict_one(w,phi)\n",
    "                if y2!=int(y):\n",
    "                    update_weights(w,phi,int(y))\n",
    "    return w\n",
    "            \n",
    "def update_weights(w,phi,y):\n",
    "    for name,value in phi.items():\n",
    "        w[name]+=value*y\n",
    "    return w\n",
    "\n",
    "w=online_learning(\"titles-en-train.labeled.txt\")\n",
    "predict_all(w,\"titles-en-test.txt\")"
   ]
  },
  {
   "cell_type": "code",
   "execution_count": 2,
   "id": "6ab16fc8-06c2-4c3b-aa78-1e332fe30c3c",
   "metadata": {},
   "outputs": [
    {
     "name": "stdout",
     "output_type": "stream",
     "text": [
      "精度：0.9323414806942969\n"
     ]
    }
   ],
   "source": [
    "def check(test_ans,my_ans):\n",
    "    with open(test_ans,\"r\",encoding=\"utf-8\") as t_a:\n",
    "         with open(my_ans,\"r\",encoding=\"utf-8\") as my_a:\n",
    "            kekka=[]\n",
    "            my_kekka=[]\n",
    "            count=0\n",
    "            for line in t_a:\n",
    "                y,x=line.split(\"\\t\")\n",
    "                kekka.append(float(y))\n",
    "            for line in my_a:\n",
    "                line=line.strip()\n",
    "                y2,x2=line.split(\"\\t\")\n",
    "                my_kekka.append(float(y2))\n",
    "            for i in range(0,len(kekka)):\n",
    "                if kekka[i]==my_kekka[i]:\n",
    "                    count+=1\n",
    "            print(\"精度：\"+str((count/len(kekka))))\n",
    "\n",
    "check(\"titles-en-test.labeled.txt\",\"test_answer.txt\")"
   ]
  }
 ],
 "metadata": {
  "kernelspec": {
   "display_name": "Python 3",
   "language": "python",
   "name": "python3"
  },
  "language_info": {
   "codemirror_mode": {
    "name": "ipython",
    "version": 3
   },
   "file_extension": ".py",
   "mimetype": "text/x-python",
   "name": "python",
   "nbconvert_exporter": "python",
   "pygments_lexer": "ipython3",
   "version": "3.9.4"
  }
 },
 "nbformat": 4,
 "nbformat_minor": 5
}
