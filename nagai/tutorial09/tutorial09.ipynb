{
 "cells": [
  {
   "cell_type": "code",
   "execution_count": 18,
   "id": "507332b3-04f1-49ef-8701-97fd06daa8e0",
   "metadata": {},
   "outputs": [
    {
     "name": "stdout",
     "output_type": "stream",
     "text": [
      "topic0\n",
      "[('the', 142678), (',', 121247), ('of', 74689), ('.', 66502), ('and', 54756), ('in', 45030), (')', 43049), ('(', 40542), ('to', 40164), ('a', 31175), ('was', 28195), ('&apos;', 20600), ('is', 18757), ('as', 17606), ('&quot;', 17313), ('that', 13666), ('it', 13323), ('on', 13065), ('for', 12187), ('by', 12159)]\n",
      "\n",
      "topic1\n",
      "[('the', 178634), (',', 144397), ('of', 89627), ('.', 82042), ('and', 66736), ('(', 54890), ('in', 52522), (')', 52287), ('to', 47812), ('a', 40969), ('was', 34617), ('&quot;', 24527), ('is', 24443), ('as', 23598), ('&apos;', 21540), ('that', 16150), ('by', 15945), ('for', 14453), ('it', 14453), ('from', 14363)]\n"
     ]
    }
   ],
   "source": [
    "from collections import defaultdict\n",
    "import random\n",
    "import math\n",
    "\n",
    "def ADDCOUNTS(word,topic,docid,amount):\n",
    "    xcounts[topic]+=amount\n",
    "    xcounts[f\"{word}|{topic}\"]+=amount\n",
    "    ycounts[docid]+=amount\n",
    "    ycounts[f\"{topic}|{docid}\"]+=amount\n",
    "\n",
    "def SampleOne(probs):\n",
    "    z=sum(probs)\n",
    "    remaining=random.uniform(0,z)\n",
    "    for i in range(len(probs)):\n",
    "        remaining-=probs[i]\n",
    "        if remaining<=0:\n",
    "            return i\n",
    "    \n",
    "xcorpus=[]\n",
    "ycorpus=[]\n",
    "xcounts=defaultdict(lambda:0)\n",
    "ycounts=defaultdict(lambda:0)\n",
    "NUM_TOPICS=2\n",
    "with open(\"wiki-en-documents.txt\",\"r\",encoding=\"utf-8\") as f:\n",
    "    for line in f:\n",
    "        docid=len(xcorpus)\n",
    "        words=line.strip().split(\" \")\n",
    "        topics=[]\n",
    "        for word in words:\n",
    "            topic=random.randint(0,NUM_TOPICS-1)\n",
    "            topics.append(topic)\n",
    "            ADDCOUNTS(word,topic,docid,1)\n",
    "        xcorpus.append(words)\n",
    "        ycorpus.append(topics)\n",
    "\n",
    "iterations=10\n",
    "for num in range(iterations):\n",
    "    ll=0\n",
    "    for i in range(len(xcorpus)):\n",
    "        for j in range(len(xcorpus[i])):\n",
    "            x=xcorpus[i][j]\n",
    "            y=ycorpus[i][j]\n",
    "            ADDCOUNTS(x,y,i,-1)\n",
    "            probs=[]\n",
    "            for k in range(NUM_TOPICS):\n",
    "                alpha=0.01\n",
    "                beta=0.01\n",
    "                P_xk=(xcounts[f\"{x}|{k}\"]+alpha)/(xcounts[k]+alpha*len(xcorpus))\n",
    "                P_ky=(ycounts[f\"{k}|{y}\"]+beta)/(ycounts[y]+beta*len(ycorpus))\n",
    "                probs.append(P_xk*P_ky)\n",
    "            new_y=SampleOne(probs)\n",
    "            ll+=math.log(probs[new_y])\n",
    "            ADDCOUNTS(x,new_y,i,1)\n",
    "            ycorpus[i][j]=new_y\n",
    "\n",
    "for i in range(len(xcorpus)):\n",
    "    for j in range(len(xcorpus[i])):\n",
    "        x=xcorpus[i][j]\n",
    "        y=ycorpus[i][j]\n",
    "        if y==0:\n",
    "            topic0[x]+=1\n",
    "        else:\n",
    "            topic1[x]+=1\n",
    "print(\"topic0\")\n",
    "print(sorted(topic0.items(),key=lambda x:x[1],reverse=True)[:20])\n",
    "print(\"\\ntopic1\")\n",
    "print(sorted(topic1.items(),key=lambda x:x[1],reverse=True)[:20])"
   ]
  }
 ],
 "metadata": {
  "kernelspec": {
   "display_name": "Python 3",
   "language": "python",
   "name": "python3"
  },
  "language_info": {
   "codemirror_mode": {
    "name": "ipython",
    "version": 3
   },
   "file_extension": ".py",
   "mimetype": "text/x-python",
   "name": "python",
   "nbconvert_exporter": "python",
   "pygments_lexer": "ipython3",
   "version": "3.9.4"
  }
 },
 "nbformat": 4,
 "nbformat_minor": 5
}
