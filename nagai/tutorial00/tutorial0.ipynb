{
 "cells": [
  {
   "cell_type": "code",
   "execution_count": 14,
   "id": "2508fc6f-310c-4d8f-b171-265a55419150",
   "metadata": {},
   "outputs": [],
   "source": [
    "from collections import defaultdict\n",
    "counts={}\n",
    "\n",
    "with open(\"test00.txt\",\"r\",encoding=\"utf-8\") as tx:\n",
    "    for line in tx:\n",
    "        line=line.strip()\n",
    "        words=line.split()\n",
    "        for word in words:\n",
    "            if word in counts.keys():\n",
    "                counts[word]+=1\n",
    "            else:\n",
    "                counts[word]=1\n",
    "                \n",
    "with open(\"test00-answer.txt\",\"w\",encoding=\"utf-8\") as tx:\n",
    "    for key,value in counts.items():\n",
    "        tx.write(f\"{key}:{value}\\n\")"
   ]
  },
  {
   "cell_type": "code",
   "execution_count": null,
   "id": "2d154c34-45b9-485b-b1cf-2cbc3689ae84",
   "metadata": {},
   "outputs": [],
   "source": []
  }
 ],
 "metadata": {
  "kernelspec": {
   "display_name": "Python 3",
   "language": "python",
   "name": "python3"
  },
  "language_info": {
   "codemirror_mode": {
    "name": "ipython",
    "version": 3
   },
   "file_extension": ".py",
   "mimetype": "text/x-python",
   "name": "python",
   "nbconvert_exporter": "python",
   "pygments_lexer": "ipython3",
   "version": "3.9.4"
  }
 },
 "nbformat": 4,
 "nbformat_minor": 5
}
